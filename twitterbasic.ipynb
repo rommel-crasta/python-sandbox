{
 "cells": [
  {
   "cell_type": "code",
   "execution_count": 9,
   "metadata": {
    "collapsed": false
   },
   "outputs": [],
   "source": [
    "import twitter\n",
    "import urllib.parse\n",
    "\n",
    "consumer_key = 'bxZ2ypZgrxusqKvUGnlv1KNew'\n",
    "consumer_secret = 'HiAk5tuYc657MNKSb8odAxnU33fm4nLAAXY10PkhM3uUxbP9XB'\n",
    "access_token = '2983449373-pH31LSzmmrbgXrkZx08FWDnWqxNmWx74aMwLMt4'\n",
    "access_secret = 'Q41AgD2NdZ6n2UQWh8YM6nMosCKLENWrfqh1oiUNhp4R9'\n",
    "        \n",
    "tauth = twitter.oauth.OAuth(access_token, access_secret, consumer_key, consumer_secret)\n",
    "api = twitter.Twitter(auth=tauth)\n",
    "\n",
    "#search_results = api.search.tweets(q=q, count=10, **kwargs)\n",
    "search_results = api.search.tweets(q='ApacheSpark', count=10)"
   ]
  },
  {
   "cell_type": "code",
   "execution_count": 56,
   "metadata": {
    "collapsed": false
   },
   "outputs": [
    {
     "name": "stdout",
     "output_type": "stream",
     "text": [
      "['RT @Intellipaat: Top 5 Mistakes to Avoid When Writing #apachespark '\n",
      " 'Applications. Learn Now... https://t.co/Ooc9im9kHi https://t.co/yeVyNCOS…',\n",
      " 'RT @Intellipaat: Top 5 Mistakes to Avoid When Writing #apachespark '\n",
      " 'Applications. Learn Now... https://t.co/Ooc9im9kHi https://t.co/yeVyNCOS…',\n",
      " 'RT @Intellipaat: Top 5 Mistakes to Avoid When Writing #apachespark '\n",
      " 'Applications. Learn Now... https://t.co/Ooc9im9kHi https://t.co/yeVyNCOS…',\n",
      " 'RT @Intellipaat: Top 5 Mistakes to Avoid When Writing #apachespark '\n",
      " 'Applications. Learn Now... https://t.co/Ooc9im9kHi https://t.co/yeVyNCOS…',\n",
      " 'RT @Intellipaat: Top 5 Mistakes to Avoid When Writing #apachespark '\n",
      " 'Applications. Learn Now... https://t.co/Ooc9im9kHi https://t.co/yeVyNCOS…',\n",
      " 'RT @Intellipaat: Top 5 Mistakes to Avoid When Writing #apachespark '\n",
      " 'Applications. Learn Now... https://t.co/Ooc9im9kHi https://t.co/yeVyNCOS…',\n",
      " 'RT @Intellipaat: Top 5 Mistakes to Avoid When Writing #apachespark '\n",
      " 'Applications. Learn Now... https://t.co/Ooc9im9kHi https://t.co/yeVyNCOS…',\n",
      " 'RT @Intellipaat: Top 5 Mistakes to Avoid When Writing #apachespark '\n",
      " 'Applications. Learn Now... https://t.co/Ooc9im9kHi https://t.co/yeVyNCOS…',\n",
      " '#Limitations of #ApacheSpark – Ways to overcome #Spark drawbacks \\n'\n",
      " '\\n'\n",
      " 'https://t.co/VJFLJyXNyd',\n",
      " 'RT @gp_pulipaka: Intel Rolls Out #BigDL #DeepLearning Library for '\n",
      " '#ApacheSpark. #BigData #MachineLearning #DataScience #AI \\n'\n",
      " 'https://t.co/ES…']\n"
     ]
    }
   ],
   "source": [
    "import pprint as pp\n",
    "\n",
    "statuses=[]\n",
    "for status in search_results['statuses']:\n",
    "    statuses.append(status['text']) \n",
    "\n",
    "pp.pprint(statuses)\n",
    "#statuses = search_results['statuses']\n",
    "\n",
    "#next_results=search_results['search_metadata']['next_results']\n",
    "#next_results = urllib.parse.parse_qsl(next_results[1:])\n",
    "#kwargs = dict(next_results)\n",
    "#search_results = api.search.tweets(**kwargs)\n",
    "#statuses += search_results['statuses']\n",
    "#len(statuses)\n",
    "\n",
    "#import pprint\n",
    "#import json\n"
   ]
  },
  {
   "cell_type": "code",
   "execution_count": null,
   "metadata": {
    "collapsed": true
   },
   "outputs": [],
   "source": []
  }
 ],
 "metadata": {
  "kernelspec": {
   "display_name": "Python [Root]",
   "language": "python",
   "name": "Python [Root]"
  },
  "language_info": {
   "codemirror_mode": {
    "name": "ipython",
    "version": 3
   },
   "file_extension": ".py",
   "mimetype": "text/x-python",
   "name": "python",
   "nbconvert_exporter": "python",
   "pygments_lexer": "ipython3",
   "version": "3.5.2"
  }
 },
 "nbformat": 4,
 "nbformat_minor": 0
}
