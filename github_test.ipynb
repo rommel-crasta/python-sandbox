{
 "cells": [
  {
   "cell_type": "code",
   "execution_count": 11,
   "metadata": {
    "collapsed": false
   },
   "outputs": [
    {
     "data": {
      "text/plain": [
       "929"
      ]
     },
     "execution_count": 11,
     "metadata": {},
     "output_type": "execute_result"
    }
   ],
   "source": [
    "from github import Github\n",
    "ACCESS_TOKEN = 'f2f959fadbae00985f13218a21f8cb73eed7da1c'\n",
    "\n",
    "# We are focusing our attention to User = apache and Repo = spark\n",
    "USER = 'apache'\n",
    "REPO = 'spark'\n",
    "\n",
    "g = Github(ACCESS_TOKEN, per_page=100)\n",
    "user = g.get_user(USER)\n",
    "repo = user.get_repo(REPO)\n",
    "\n",
    "repos_apache = [repo.name for repo in g.get_user('apache').get_repos()]\n",
    "\n",
    "len(repos_apache)"
   ]
  },
  {
   "cell_type": "code",
   "execution_count": 15,
   "metadata": {
    "collapsed": false
   },
   "outputs": [
    {
     "name": "stdout",
     "output_type": "stream",
     "text": [
      "Repository(full_name=\"apache/spark\")\n"
     ]
    }
   ],
   "source": []
  },
  {
   "cell_type": "code",
   "execution_count": null,
   "metadata": {
    "collapsed": true
   },
   "outputs": [],
   "source": []
  }
 ],
 "metadata": {
  "kernelspec": {
   "display_name": "Python [Root]",
   "language": "python",
   "name": "Python [Root]"
  },
  "language_info": {
   "codemirror_mode": {
    "name": "ipython",
    "version": 3
   },
   "file_extension": ".py",
   "mimetype": "text/x-python",
   "name": "python",
   "nbconvert_exporter": "python",
   "pygments_lexer": "ipython3",
   "version": "3.5.2"
  }
 },
 "nbformat": 4,
 "nbformat_minor": 0
}
